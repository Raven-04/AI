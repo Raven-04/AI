{
 "cells": [
  {
   "cell_type": "markdown",
   "id": "ec522716-e312-43e7-93e5-cdab998c792c",
   "metadata": {},
   "source": [
    "# Solving problems by Searching\n",
    "This notebook serves as supporting material for topics covered in Solving Problems by Searching \n",
    "\n",
    "## Maze Problem \n",
    "Let's see how we define a maze Problem. \n",
    "\n",
    "As discussed in the lecture, `Problem` class has five methods.\n",
    "\n",
    "* `initial_state(self)` : This returns the initial state \n",
    "\n",
    "* `actions(self, state)` : This method returns all the possible actions agent can execute in the given state `state`.\n",
    "\n",
    "* `result(self, state, action)` : This returns the resulting state if action `action` is taken in the state `state`. This `Problem` class only deals with deterministic outcomes. So we know for sure what every action in a state would result to.\n",
    "\n",
    "* `goal_test(self, state)` : Return a boolean for a given state - `True` if it is a goal state, else `False`.\n",
    "\n",
    "* `path_cost(self, c, state1, action, state2)` : Return the cost of the path that arrives at `state2` as a result of taking `action` from `state1`, assuming total cost of `c` to get up to `state1`.\n",
    "\n",
    "Run the next cell to see how abstract class Problem is defined"
   ]
  },
  {
   "cell_type": "code",
   "execution_count": 34,
   "id": "ff71f411-fb98-492b-8321-43cf6ff02d32",
   "metadata": {
    "tags": []
   },
   "outputs": [],
   "source": [
    "class Maze():\n",
    "    def __init__(self, maze_string):\n",
    "        # Read the file and set the height and width of the maze\n",
    "        contents = maze_string\n",
    "        # Validate start and goal\n",
    "        if contents.count(\"A\") != 1:\n",
    "            raise Exception(\"maze must have exactly one start point\")\n",
    "        if contents.count(\"B\") != 1:\n",
    "            raise Exception(\"maze must have exactly one goal\")\n",
    "\n",
    "        # Determine height and width of maze\n",
    "        contents = contents.splitlines()\n",
    "        self.height = len(contents)\n",
    "        self.width = max(len(line) for line in contents)\n",
    "\n",
    "        # Keep track of walls\n",
    "        self.walls = []\n",
    "        for i in range(self.height):\n",
    "            row = []\n",
    "            for j in range(self.width):\n",
    "                try:\n",
    "                    if contents[i][j] == \"A\":\n",
    "                        self.start = (i, j)\n",
    "                        row.append(False)\n",
    "                    elif contents[i][j] == \"B\":\n",
    "                        self.goal = (i, j)\n",
    "                        row.append(False)\n",
    "                    elif contents[i][j] == \" \":\n",
    "                        row.append(False)\n",
    "                    else:\n",
    "                        row.append(True)\n",
    "                except IndexError:\n",
    "                    row.append(False)\n",
    "            self.walls.append(row)\n",
    "            \n",
    "\n",
    "    def initial_state(self):\n",
    "        return self.start\n",
    "\n",
    "    def goal_test(self, state):\n",
    "        return state == self.goal\n",
    "\n",
    "    def result(self, state):    \n",
    "        row, col = state\n",
    "        candidates = [\n",
    "            \n",
    "            (\"down\", (row + 1, col)),\n",
    "            \n",
    "            (\"right\", (row, col + 1)),\n",
    "            (\"left\", (row, col - 1)),\n",
    "            (\"up\", (row - 1, col))\n",
    "        ]\n",
    "        result = []\n",
    "        for action, (r, c) in candidates:\n",
    "            if 0 <= r < self.height and 0 <= c < self.width and not self.walls[r][c]:\n",
    "                result.append((action, (r, c)))\n",
    "        return result\n",
    "\n",
    "    # for visualization    \n",
    "    def output_image(self, solution = None, explored = None, show_solution=True, show_explored=False):\n",
    "        from PIL import Image, ImageDraw\n",
    "        cell_size = 50\n",
    "        cell_border = 2\n",
    "\n",
    "        # Create a blank canvas\n",
    "        img = Image.new(\n",
    "            \"RGBA\",\n",
    "            (self.width * cell_size, self.height * cell_size),\n",
    "            \"black\"\n",
    "        )\n",
    "        draw = ImageDraw.Draw(img)\n",
    "\n",
    "        solution = solution[1] if solution is not None else None\n",
    "        for i, row in enumerate(self.walls):\n",
    "            for j, col in enumerate(row):\n",
    "\n",
    "                # Walls\n",
    "                if col:\n",
    "                    fill = (40, 40, 40)\n",
    "\n",
    "                # Start\n",
    "                elif (i, j) == self.start:\n",
    "                    fill = (255, 0, 0)\n",
    "\n",
    "                # Goal\n",
    "                elif (i, j) == self.goal:\n",
    "                    fill = (0, 171, 28)\n",
    "\n",
    "                # Solution\n",
    "                elif solution is not None and show_solution and (i, j) in solution:\n",
    "                    fill = (220, 235, 113)\n",
    "\n",
    "                # Explored\n",
    "                elif solution is not None and show_explored and (i, j) in explored:\n",
    "                    fill = (212, 97, 85)\n",
    "\n",
    "                # Empty cell\n",
    "                else:\n",
    "                    fill = (237, 240, 252)\n",
    "\n",
    "                # Draw cell\n",
    "                draw.rectangle(\n",
    "                    ([(j * cell_size + cell_border, i * cell_size + cell_border),\n",
    "                      ((j + 1) * cell_size - cell_border, (i + 1) * cell_size - cell_border)]),\n",
    "                    fill=fill\n",
    "                )\n",
    "        display(img)\n",
    "        #img.save('test.png')\n"
   ]
  },
  {
   "cell_type": "markdown",
   "id": "16bb827d-9a09-4788-a116-b23f05d4af3a",
   "metadata": {},
   "source": [
    "We will define the maze using the string below, where ```#``` indicates walls and empty space indicates free space. A is the initial state and B is the goal state.\n",
    "```\n",
    "maze = \"\"\"\\\n",
    "##    #\\n\\\n",
    "## ## #\\n\\\n",
    "#B #  #\\n\\\n",
    "# ## ##\\n\\\n",
    "     ##\\n\\\n",
    "A######\\\n",
    "\"\"\"\n",
    "```"
   ]
  },
  {
   "cell_type": "code",
   "execution_count": 35,
   "id": "7d3770f2-585c-42c4-8914-308dbaf4f78a",
   "metadata": {},
   "outputs": [
    {
     "data": {
      "text/plain": [
       "[('left', (4, 3)), ('up', (3, 4))]"
      ]
     },
     "execution_count": 35,
     "metadata": {},
     "output_type": "execute_result"
    }
   ],
   "source": [
    "maze1 = \"\"\"\\\n",
    "#####B#\\n\\\n",
    "##### #\\n\\\n",
    "####  #\\n\\\n",
    "#### ##\\n\\\n",
    "     ##\\n\\\n",
    "A######\\\n",
    "\"\"\"\n",
    "\n",
    "maze2 = \"\"\"\\\n",
    "###                 #########\\n\\\n",
    "#   ###################   #B#\\n\\\n",
    "# ####                  # # #\\n\\\n",
    "# ################### # # # #\\n\\\n",
    "#                     # # # #\\n\\\n",
    "##################### # # # #\\n\\\n",
    "#   ##                # # # #\\n\\\n",
    "# # ## ### ## ######### # # #\\n\\\n",
    "# #    #   ## #         # # #\\n\\\n",
    "# # ## ################ # # #\\n\\\n",
    "### ##             #### # # #\\n\\\n",
    "### ############## ## # # # #\\n\\\n",
    "###             ##    # # # #\\n\\\n",
    "###### ######## ####### # # #\\n\\\n",
    "###### ####             #   #\\n\\\n",
    "A      ######################\"\"\"\n",
    "\n",
    "\n",
    "maze3 = \"\"\"\\\n",
    "##B   #\\n\\\n",
    "## ## #\\n\\\n",
    "#  #  #\\n\\\n",
    "# ## ##\\n\\\n",
    "     ##\\n\\\n",
    "A##### \"\"\"\n",
    "\n",
    "problem = Maze(maze1)\n",
    "problem.goal_test((0,5))\n",
    "problem.result((4,4))\n",
    "\n",
    "#state = problem.initial_state()\n",
    "#print(state)\n",
    "#print(problem.result((15,6)))\n",
    "#problem.result((15,6))\n",
    "#problem.output_image()"
   ]
  },
  {
   "cell_type": "markdown",
   "id": "43c263f1-bc65-484f-a15b-eb8f2b74d470",
   "metadata": {},
   "source": [
    "## Node\n",
    "Let's see how we define a Node. Run the next cell to see how class Node is defined. The Node class helps in constructing paths from the goal state back to the initial state. By maintaining references to parent nodes, we can traverse the path in reverse order, effectively reconstructing the sequence of actions leading to the goal state. "
   ]
  },
  {
   "cell_type": "code",
   "execution_count": 36,
   "id": "439b9694-2974-4b98-a818-b21e3db0b947",
   "metadata": {
    "tags": []
   },
   "outputs": [],
   "source": [
    "import sys\n",
    "\n",
    "class Node():\n",
    "    def __init__(self, state, parent, action):\n",
    "        self.state = state\n",
    "        self.parent = parent # parent of the current node\n",
    "        self.action = action # action that was taken to reach this node"
   ]
  },
  {
   "cell_type": "markdown",
   "id": "856b9881-e3e3-4b38-8f56-02e60b370c4a",
   "metadata": {},
   "source": [
    "## Datastructure for Frontier"
   ]
  },
  {
   "cell_type": "code",
   "execution_count": 37,
   "id": "4d5c5cec-eb00-4a83-ad34-b05200c2680c",
   "metadata": {},
   "outputs": [],
   "source": [
    "# Last in first out frontier\n",
    "class StackFrontier():\n",
    "    def __init__(self):\n",
    "        self.frontier = []\n",
    "\n",
    "    def add(self, node):\n",
    "        self.frontier.append(node)\n",
    "\n",
    "    def contains_state(self, state):\n",
    "        return any(node.state == state for node in self.frontier)\n",
    "\n",
    "    def empty(self):\n",
    "        return len(self.frontier) == 0\n",
    "\n",
    "    def remove(self):\n",
    "        if self.empty():\n",
    "            raise Exception(\"empty frontier\")\n",
    "        else:\n",
    "            node = self.frontier.pop()\n",
    "            return node\n",
    "\n",
    "# First in first out frontier\n",
    "class QueueFrontier(StackFrontier):\n",
    "\n",
    "    def remove(self):\n",
    "        if self.empty():\n",
    "            raise Exception(\"empty frontier\")\n",
    "        else:\n",
    "            node = self.frontier.pop(0)\n",
    "            return node\n"
   ]
  },
  {
   "cell_type": "markdown",
   "id": "9b2b734a-229d-48cc-97d1-5fa3d189b5d7",
   "metadata": {},
   "source": [
    "## Graph Search Algorithm"
   ]
  },
  {
   "cell_type": "code",
   "execution_count": 38,
   "id": "1f5900bb-e59b-4c0c-a20a-142336fd6a23",
   "metadata": {},
   "outputs": [],
   "source": [
    "def graph_search(problem):\n",
    "    # Initialize frontier to just the starting position\n",
    "    start = Node(state=problem.initial_state(), parent=None, action=None)\n",
    "    frontier = StackFrontier();\n",
    "    frontier.add(start)\n",
    "\n",
    "    # Initialize an empty explored set\n",
    "    explored = set()\n",
    "    \n",
    "    # Keep looping until solution found\n",
    "    while True:\n",
    "        # If nothing left in frontier, then no path\n",
    "        if frontier.empty():\n",
    "            raise Exception(\"no solution\")\n",
    "\n",
    "        # Choose a node from the frontier\n",
    "        node = frontier.remove()\n",
    "\n",
    "        # Mark node as explored\n",
    "        explored.add(node.state)\n",
    "\n",
    "        # If node is the goal, then we have a solution\n",
    "        if problem.goal_test(node.state):\n",
    "            actions = []\n",
    "            cells = []\n",
    "            while node.parent is not None:\n",
    "                actions.append(node.action)\n",
    "                cells.append(node.state)\n",
    "                node = node.parent\n",
    "            actions.reverse()\n",
    "            cells.reverse()\n",
    "            solution = (actions, cells)\n",
    "            return solution, explored\n",
    "\n",
    "        \n",
    "        # Add neighbors to frontier\n",
    "        for action, state in problem.result(node.state):\n",
    "            if not frontier.contains_state(state) and state not in explored:\n",
    "                child = Node(state=state, parent=node, action=action)\n",
    "                frontier.add(child)"
   ]
  },
  {
   "cell_type": "markdown",
   "id": "98dbc114-d465-4134-b24a-048cc3916992",
   "metadata": {},
   "source": [
    "## Solution"
   ]
  },
  {
   "cell_type": "code",
   "execution_count": 40,
   "id": "a7a5294f-ab0b-4332-a3d6-7f35793378d3",
   "metadata": {},
   "outputs": [
    {
     "data": {
      "image/png": "[encoded data removed]",
      "text/plain": [
       "<PIL.Image.Image image mode=RGBA size=1450x800>"
      ]
     },
     "metadata": {},
     "output_type": "display_data"
    }
   ],
   "source": [
    "problem = Maze(maze2)\n",
    "\n",
    "solution, explored = graph_search(problem)\n",
    "problem.output_image(solution=solution, explored=explored, show_solution=False, show_explored=True)"
   ]
  },
  {
   "cell_type": "code",
   "execution_count": 20,
   "id": "ff4b5cd8-c7aa-4d97-8d61-0405471c2d3e",
   "metadata": {},
   "outputs": [
    {
     "data": {
      "text/plain": [
       "(['up', 'right', 'right', 'right', 'right', 'up', 'up', 'right', 'up', 'up'],\n",
       " [(4, 0),\n",
       "  (4, 1),\n",
       "  (4, 2),\n",
       "  (4, 3),\n",
       "  (4, 4),\n",
       "  (3, 4),\n",
       "  (2, 4),\n",
       "  (2, 5),\n",
       "  (1, 5),\n",
       "  (0, 5)])"
      ]
     },
     "execution_count": 20,
     "metadata": {},
     "output_type": "execute_result"
    }
   ],
   "source": [
    "solution"
   ]
  },
  {
   "cell_type": "code",
   "execution_count": null,
   "id": "0ed3080b-208a-451c-91a7-0863e12a5440",
   "metadata": {},
   "outputs": [],
   "source": []
  }
 ],
 "metadata": {
  "kernelspec": {
   "display_name": "Python 3 (ipykernel)",
   "language": "python",
   "name": "python3"
  },
  "language_info": {
   "codemirror_mode": {
    "name": "ipython",
    "version": 3
   },
   "file_extension": ".py",
   "mimetype": "text/x-python",
   "name": "python",
   "nbconvert_exporter": "python",
   "pygments_lexer": "ipython3",
   "version": "3.10.10"
  }
 },
 "nbformat": 4,
 "nbformat_minor": 5
}
