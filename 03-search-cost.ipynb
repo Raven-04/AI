{
 "cells": [
  {
   "cell_type": "markdown",
   "id": "ec522716-e312-43e7-93e5-cdab998c792c",
   "metadata": {},
   "source": [
    "# Solving problems by Searching\n",
    "This notebook serves as supporting material for topics covered in Solving Problems by Searching \n",
    "\n",
    "## Maze Problem \n",
    "Let's see how we define a maze Problem. \n",
    "\n",
    "As discussed in the lecture, `Problem` class has five methods.\n",
    "\n",
    "* `initial_state(self)` : This returns the initial state \n",
    "\n",
    "* `actions(self, state)` : This method returns all the possible actions agent can execute in the given state `state`.\n",
    "\n",
    "* `result(self, state, action)` : This returns the resulting state if action `action` is taken in the state `state`. This `Problem` class only deals with deterministic outcomes. So we know for sure what every action in a state would result to.\n",
    "\n",
    "* `goal_test(self, state)` : Return a boolean for a given state - `True` if it is a goal state, else `False`.\n",
    "\n",
    "* `path_cost(self, state)` : Return the cost of arriving at a state\n",
    "\n",
    "Run the next cell to see how abstract class Problem is defined"
   ]
  },
  {
   "cell_type": "code",
   "execution_count": 1,
   "id": "ff71f411-fb98-492b-8321-43cf6ff02d32",
   "metadata": {
    "tags": []
   },
   "outputs": [],
   "source": [
    "class Maze():\n",
    "    def __init__(self, maze_string):\n",
    "        # Read the file and set the height and width of the maze\n",
    "        contents = maze_string\n",
    "                \n",
    "        # Validate start and goal\n",
    "        if contents.count(\"A\") != 1:\n",
    "            raise Exception(\"maze must have exactly one start point\")\n",
    "        if contents.count(\"B\") != 1:\n",
    "            raise Exception(\"maze must have exactly one goal\")\n",
    "\n",
    "        # if no cost and no comma, assign cost of 1\n",
    "        if contents.count(\",\") == 0:\n",
    "            contents = contents.replace(' ','1')\n",
    "            contents = contents.splitlines()\n",
    "            contents = [','.join(list(c)) for c in contents]\n",
    "        else:\n",
    "            contents = contents.splitlines()\n",
    "            \n",
    "        contents = [line.split(',') for line in contents]\n",
    "        \n",
    "        self.height = len(contents)\n",
    "        self.width = max(len(line) for line in contents)\n",
    "        \n",
    "        # Keep track of walls\n",
    "        self.walls = []\n",
    "        for i in range(self.height):\n",
    "            row = []\n",
    "            for j in range(self.width):\n",
    "                try:\n",
    "                    if contents[i][j] == \"A\":\n",
    "                        self.start = (i, j)\n",
    "                        row.append(0)\n",
    "                    elif contents[i][j] == \"B\":\n",
    "                        self.goal = (i, j)\n",
    "                        row.append(0)\n",
    "                    elif contents[i][j].isdigit():\n",
    "                        row.append(int(contents[i][j]))\n",
    "                    else:\n",
    "                        row.append(-1)\n",
    "                except IndexError:\n",
    "                    row.append(-1)\n",
    "            self.walls.append(row)\n",
    "            \n",
    "\n",
    "    def initial_state(self):\n",
    "        return self.start\n",
    "\n",
    "    def goal_test(self, state):\n",
    "        return state == self.goal\n",
    "\n",
    "    def result(self, state):    \n",
    "        row, col = state\n",
    "        candidates = [\n",
    "            (\"up\", (row - 1, col)),\n",
    "            (\"down\", (row + 1, col)),\n",
    "            (\"left\", (row, col - 1)),\n",
    "            (\"right\", (row, col + 1))\n",
    "        ]\n",
    "        result = []\n",
    "        for action, (r, c) in candidates:\n",
    "            if 0 <= r < self.height and 0 <= c < self.width and self.walls[r][c] >=0 :\n",
    "                result.append((action, (r, c)))\n",
    "        return result\n",
    "    def path_cost(self, state):\n",
    "        return self.walls[state[0]][state[1]]\n",
    "        \n",
    "    def heuristic(self, state):\n",
    "        return abs(state[0] - self.goal[0]) + abs(state[1] - self.goal[1]) \n",
    "        \n",
    "    # for visualization    \n",
    "    def output_image(self, solution = None, explored = None, show_solution=True, show_explored=False):\n",
    "        from PIL import Image, ImageDraw, ImageFont\n",
    "        cell_size = 50\n",
    "        cell_border = 2\n",
    "\n",
    "        # Create a blank canvas\n",
    "        img = Image.new(\n",
    "            \"RGBA\",\n",
    "            (self.width * cell_size, self.height * cell_size),\n",
    "            \"black\"\n",
    "        )\n",
    "        draw = ImageDraw.Draw(img)\n",
    "        #font = ImageFont.truetype(\"arial.ttf\", 48)\n",
    "        \n",
    "        solution = solution[1] if solution is not None else None\n",
    "        for i, row in enumerate(self.walls):\n",
    "            for j, col in enumerate(row):\n",
    "\n",
    "                # Walls\n",
    "                if col == -1:\n",
    "                    fill = (40, 40, 40)\n",
    "\n",
    "                # Start\n",
    "                elif (i, j) == self.start:\n",
    "                    fill = (255, 0, 0)\n",
    "                    \n",
    "\n",
    "                # Goal\n",
    "                elif (i, j) == self.goal:\n",
    "                    fill = (0, 171, 28)\n",
    "        \n",
    "                \n",
    "                # Solution\n",
    "                elif solution is not None and show_solution and (i, j) in solution:\n",
    "                    fill = (220, 235, 113)\n",
    "                    \n",
    "\n",
    "                # Explored\n",
    "                elif solution is not None and show_explored and (i, j) in explored:\n",
    "                    fill = (212, 97, 85)        \n",
    "\n",
    "                # Empty cell\n",
    "                else:\n",
    "                    fill = (237, 240, 252)\n",
    "           \n",
    "\n",
    "                # Draw cell\n",
    "                draw.rectangle(\n",
    "                    ([(j * cell_size + cell_border, i * cell_size + cell_border),\n",
    "                      ((j + 1) * cell_size - cell_border, (i + 1) * cell_size - cell_border)]),\n",
    "                    fill=fill\n",
    "                )\n",
    "        for i, row in enumerate(self.walls):\n",
    "            for j, col in enumerate(row):\n",
    "                if self.walls[i][j] > 0:\n",
    "                    draw.text((j*cell_size+10, i*cell_size+10), str(self.walls[i][j]), (0,100,100))\n",
    "                    \n",
    "        display(img)\n",
    "        #img.save('test.png')"
   ]
  },
  {
   "cell_type": "markdown",
   "id": "16bb827d-9a09-4788-a116-b23f05d4af3a",
   "metadata": {},
   "source": [
    "We will define the maze using the string below, where ```#``` indicates walls and empty space indicates free space. A is the initial state and B is the goal state.\n",
    "```\n",
    "maze = \"##    #\\n\\\n",
    "## ## #\\n\\\n",
    "#B #  #\\n\\\n",
    "# ## ##\\n\\\n",
    "     ##\\n\\\n",
    "A######\"\n",
    "```"
   ]
  },
  {
   "cell_type": "code",
   "execution_count": 3,
   "id": "7d3770f2-585c-42c4-8914-308dbaf4f78a",
   "metadata": {},
   "outputs": [
    {
     "data": {
      "image/png": "[encoded data removed]",
      "text/plain": [
       "<PIL.Image.Image image mode=RGBA size=1450x800>"
      ]
     },
     "metadata": {},
     "output_type": "display_data"
    }
   ],
   "source": [
    "maze1 = \"#####B#\\n\\\n",
    "##### #\\n\\\n",
    "####  #\\n\\\n",
    "#### ##\\n\\\n",
    "     ##\\n\\\n",
    "A######\"\n",
    "\n",
    "maze2 = \"###                 #########\\n\\\n",
    "#   ###################   # #\\n\\\n",
    "# ####                # # # #\\n\\\n",
    "# ################### # # # #\\n\\\n",
    "#                     # # # #\\n\\\n",
    "##################### # # # #\\n\\\n",
    "#   ##                # # # #\\n\\\n",
    "# # ## ### ## ######### # # #\\n\\\n",
    "# #    #   ## #         # # #\\n\\\n",
    "# # ## ################ # # #\\n\\\n",
    "### ##             #### # # #\\n\\\n",
    "### ############## ## # # # #\\n\\\n",
    "###             ##    # # # #\\n\\\n",
    "###### ######## ####### # # #\\n\\\n",
    "###### ####             #  B#\\n\\\n",
    "A      ######################\"\n",
    "\n",
    "maze3 = \"1,1,1,1,1,1,#\\n\\\n",
    "1,#,1,#,#,B,#\\n\\\n",
    "1,1,#,#,2,2,#\\n\\\n",
    "#,1,#,#,2,#,#\\n\\\n",
    "1,1,2,2,2,1,1\\n\\\n",
    "A,#,#,#,1,1,1\"\n",
    "\n",
    "problem = Maze(maze2)\n",
    "#state = problem.initial_state()\n",
    "#problem.result((15,6))kkkkkn\n",
    "problem.output_image()"
   ]
  },
  {
   "cell_type": "markdown",
   "id": "43c263f1-bc65-484f-a15b-eb8f2b74d470",
   "metadata": {},
   "source": [
    "## Node\n",
    "Let's see how we define a Node. Run the next cell to see how class Node is defined. The Node class helps in constructing paths from the goal state back to the initial state. By maintaining references to parent nodes, we can traverse the path in reverse order, effectively reconstructing the sequence of actions leading to the goal state. "
   ]
  },
  {
   "cell_type": "code",
   "execution_count": 4,
   "id": "439b9694-2974-4b98-a818-b21e3db0b947",
   "metadata": {
    "tags": []
   },
   "outputs": [],
   "source": [
    "import sys\n",
    "\n",
    "class Node():\n",
    "    def __init__(self, state, parent, action, gcost, hcost):\n",
    "        self.state = state\n",
    "        self.parent = parent # parent of the current node\n",
    "        self.action = action # action that was taken to reach this node\n",
    "        self.gcost = gcost # cost\n",
    "        self.hcost = hcost # heuristic\n",
    "    def __lt__(self, other):\n",
    "        return self.gcost+self.hcost < other.gcost+other.hcost\n"
   ]
  },
  {
   "cell_type": "code",
   "execution_count": 5,
   "id": "20c6284b-7f69-4328-9206-125d0ff9c224",
   "metadata": {},
   "outputs": [
    {
     "name": "stdout",
     "output_type": "stream",
     "text": [
      "[3, 7, 5]\n",
      "[5, 7]\n"
     ]
    }
   ],
   "source": [
    "import heapq\n",
    "\n",
    "frontier = []\n",
    "heapq.heappush(frontier, 7)\n",
    "heapq.heappush(frontier, 5)\n",
    "heapq.heappush(frontier, 3)\n",
    "\n",
    "print(frontier)\n",
    "\n",
    "heapq.heappop(frontier)\n",
    "\n",
    "print(frontier)"
   ]
  },
  {
   "cell_type": "markdown",
   "id": "856b9881-e3e3-4b38-8f56-02e60b370c4a",
   "metadata": {},
   "source": [
    "## Datastructure for Frontier"
   ]
  },
  {
   "cell_type": "code",
   "execution_count": 6,
   "id": "4d5c5cec-eb00-4a83-ad34-b05200c2680c",
   "metadata": {},
   "outputs": [],
   "source": [
    "# Last in first out frontier\n",
    "import heapq\n",
    "\n",
    "class StackFrontier():\n",
    "    def __init__(self):\n",
    "        self.frontier = []\n",
    "\n",
    "    def add(self, node):\n",
    "        self.frontier.append(node)\n",
    "\n",
    "    def contains_state(self, state):\n",
    "        return any(node.state == state for node in self.frontier)\n",
    "\n",
    "    def empty(self):\n",
    "        return len(self.frontier) == 0\n",
    "\n",
    "    def remove(self):\n",
    "        if self.empty():\n",
    "            raise Exception(\"empty frontier\")\n",
    "        else:\n",
    "            node = self.frontier.pop()\n",
    "            return node\n",
    "\n",
    "# First in first out frontier\n",
    "class QueueFrontier(StackFrontier):\n",
    "\n",
    "    def remove(self):\n",
    "        if self.empty():\n",
    "            raise Exception(\"empty frontier\")\n",
    "        else:\n",
    "            node = self.frontier.pop(0)\n",
    "            return node\n",
    "\n",
    "class PQueueFrontier(StackFrontier):\n",
    "    def __init__(self):\n",
    "        self.frontier = []\n",
    "\n",
    "    def add(self, node):\n",
    "        heapq.heappush(self.frontier, node)\n",
    "\n",
    "    def contains_state(self, state):\n",
    "        return any(node.state == state for node in self.frontier)\n",
    "\n",
    "    def empty(self):\n",
    "        return len(self.frontier) == 0\n",
    "\n",
    "    def remove(self):\n",
    "        if self.empty():\n",
    "            raise Exception(\"empty frontier\")\n",
    "        else:\n",
    "            node = heapq.heappop(self.frontier)\n",
    "            return node"
   ]
  },
  {
   "cell_type": "markdown",
   "id": "9b2b734a-229d-48cc-97d1-5fa3d189b5d7",
   "metadata": {},
   "source": [
    "## Graph Search Algorithm"
   ]
  },
  {
   "cell_type": "code",
   "execution_count": 7,
   "id": "1f5900bb-e59b-4c0c-a20a-142336fd6a23",
   "metadata": {},
   "outputs": [],
   "source": [
    "def graph_search(problem, algo):\n",
    "    \n",
    "    # Initialize frontier to just the starting position\n",
    "    start = Node(state=problem.start, parent=None, action=None, gcost=0, hcost=0)\n",
    "        \n",
    "    frontier = PQueueFrontier()\n",
    "    frontier.add(start)\n",
    "    \n",
    "    # Initialize an empty explored set\n",
    "    explored = set()\n",
    "    \n",
    "    # Keep looping until solution found\n",
    "    while True:\n",
    "        # If nothing left in frontier, then no path\n",
    "        if frontier.empty():\n",
    "            raise Exception(\"no solution\")\n",
    "        \n",
    "        # Choose a node from the frontier\n",
    "        node = frontier.remove()\n",
    "        \n",
    "        # If node is the goal, then we have a solution\n",
    "        if problem.goal_test(node.state):\n",
    "            actions = []\n",
    "            cells = []\n",
    "            while node.parent is not None:\n",
    "                actions.append(node.action)\n",
    "                cells.append(node.state)\n",
    "                node = node.parent\n",
    "            actions.reverse()\n",
    "            cells.reverse()\n",
    "            solution = (actions, cells)\n",
    "            return solution, explored\n",
    "\n",
    "        # Mark node as explored\n",
    "        explored.add(node.state)\n",
    "        # Add neighbors to frontier\n",
    "        for action, state in problem.result(node.state):\n",
    "            #if not frontier.contains_state(state) and state not in explored:\n",
    "            if state not in explored:\n",
    "                if algo == 'ucs':\n",
    "                    child = Node(state=state, parent=node, action=action, gcost=node.gcost+problem.path_cost(state), hcost=0)\n",
    "                elif algo == 'greedy':\n",
    "                    child = Node(state=state, parent=node, action=action, gcost=0, hcost=problem.heuristic(state))\n",
    "                elif algo == 'a*':\n",
    "                    child = Node(state=state, parent=node, action=action, gcost=node.gcost+problem.path_cost(state), hcost=problem.heuristic(state))\n",
    "                else:\n",
    "                    raise Exception(\"Error\")\n",
    "                   \n",
    "                frontier.add(child)"
   ]
  },
  {
   "cell_type": "markdown",
   "id": "98dbc114-d465-4134-b24a-048cc3916992",
   "metadata": {},
   "source": [
    "## Solution\n",
    "In the figures below \n",
    " - red is start state,\n",
    " - green is goal state,\n",
    " - yellow is the path found from start to goal state and\n",
    " - brown are the states explored\n",
    "\n",
    "**Greedy search** is not optimal as it found a suboptimal path. \n",
    "\n",
    "**UCS** found the optimal path but it had to explore many states\n",
    "\n",
    "**A\\*** found the optimal path and explored less states than UCS"
   ]
  },
  {
   "cell_type": "code",
   "execution_count": 20,
   "id": "a7a5294f-ab0b-4332-a3d6-7f35793378d3",
   "metadata": {},
   "outputs": [
    {
     "data": {
      "image/png": "[encoded data removed]",
      "text/plain": [
       "<PIL.Image.Image image mode=RGBA size=1450x800>"
      ]
     },
     "metadata": {},
     "output_type": "display_data"
    }
   ],
   "source": [
    "problem = Maze(maze2)\n",
    "\n",
    "solution, explored = graph_search(problem, 'a*')\n",
    "problem.output_image(solution=solution, explored=explored, show_solution=False, show_explored=True)"
   ]
  },
  {
   "cell_type": "code",
   "execution_count": 7,
   "id": "1b64b896-218d-4979-94a1-2b7a58cd6afc",
   "metadata": {},
   "outputs": [
    {
     "data": {
      "image/png": "[encoded data removed]",
      "text/plain": [
       "<PIL.Image.Image image mode=RGBA size=350x300>"
      ]
     },
     "metadata": {},
     "output_type": "display_data"
    }
   ],
   "source": [
    "problem = Maze(maze3)\n",
    "\n",
    "solution, explored = graph_search(problem, 'ucs')\n",
    "problem.output_image(solution=solution, explored=explored, show_solution=True, show_explored=True)"
   ]
  },
  {
   "cell_type": "code",
   "execution_count": 8,
   "id": "ff827588-3b06-4414-8b8e-c65c45088f08",
   "metadata": {},
   "outputs": [
    {
     "data": {
      "image/png": "[encoded data removed]",
      "text/plain": [
       "<PIL.Image.Image image mode=RGBA size=350x300>"
      ]
     },
     "metadata": {},
     "output_type": "display_data"
    }
   ],
   "source": [
    "problem = Maze(maze3)\n",
    "\n",
    "solution, explored = graph_search(problem, 'a*')\n",
    "problem.output_image(solution=solution, explored=explored, show_solution=True, show_explored=True)"
   ]
  },
  {
   "cell_type": "code",
   "execution_count": null,
   "id": "bd875512-0645-4fe7-8e09-c089cee4cc39",
   "metadata": {},
   "outputs": [],
   "source": []
  },
  {
   "cell_type": "code",
   "execution_count": null,
   "id": "9030bd5c-8f16-49b6-90e5-5706842c9f07",
   "metadata": {},
   "outputs": [],
   "source": []
  }
 ],
 "metadata": {
  "kernelspec": {
   "display_name": "Python 3 (ipykernel)",
   "language": "python",
   "name": "python3"
  },
  "language_info": {
   "codemirror_mode": {
    "name": "ipython",
    "version": 3
   },
   "file_extension": ".py",
   "mimetype": "text/x-python",
   "name": "python",
   "nbconvert_exporter": "python",
   "pygments_lexer": "ipython3",
   "version": "3.10.10"
  }
 },
 "nbformat": 4,
 "nbformat_minor": 5
}
