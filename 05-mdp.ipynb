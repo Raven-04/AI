{
 "cells": [
  {
   "attachments": {},
   "cell_type": "markdown",
   "id": "66df1225-8fbf-40dd-815b-6fb9fdff2d6b",
   "metadata": {},
   "source": [
    "# Markov Decision Process\n",
    "This notebook accompanies Lecture of Markov Decision Process.\n",
    "\n",
    "MDP Defined by: (𝑆,𝐴,𝑇,𝑅,𝛾)\n",
    "\n",
    "- 𝑆: Set of possible states\n",
    "- 𝐴: Actions(s) – Possible actions from state s\n",
    "- 𝑇(𝑠,𝑎,𝑠’): Probability of 𝑠’ if taking action 𝑎 in state 𝑠\n",
    "- 𝑅(𝑠): Reward for being in a state\n",
    "- IsEnd(s): Whether at the end of the game\n",
    "- 0 ≤ 𝛾 ≤ 1: Discount factor\n",
    "\n",
    "The following class `Grid` defines the Markov Decision Processactor\r\n"
   ]
  },
  {
   "cell_type": "code",
   "execution_count": 1,
   "id": "48842fcb-b0e0-4150-9b14-a871ffce3a70",
   "metadata": {
    "tags": []
   },
   "outputs": [],
   "source": [
    "import random\n",
    "class Grid():\n",
    "    def __init__(self, maze_string, non_terminal_reward = -.04):\n",
    "        # Read the file and set the height and width of the maze\n",
    "        contents = maze_string\n",
    "                \n",
    "        # if no cost and no comma, assign cost of 1\n",
    "        if contents.count(\",\") == 0:\n",
    "            contents = contents.replace(' ','1')\n",
    "            contents = contents.splitlines()\n",
    "            contents = [','.join(list(c)) for c in contents]\n",
    "        else:\n",
    "            contents = contents.splitlines()\n",
    "            \n",
    "        contents = [line.split(',') for line in contents]\n",
    "        \n",
    "        self.height = len(contents)\n",
    "        self.width = max(len(line) for line in contents)\n",
    "        self.cell_size = 50\n",
    "        self.cell_border = 2\n",
    "        self.terminal = [] ## list of terminal states\n",
    "        self.min_reward = float('inf')\n",
    "        self.max_reward = float('-inf')\n",
    "        self.non_terminal_reward = non_terminal_reward\n",
    "        \n",
    "        # Keep track of walls\n",
    "        self.walls = []\n",
    "        for i in range(self.height):\n",
    "            row = []\n",
    "            for j in range(self.width):\n",
    "                try:            \n",
    "                    if contents[i][j].find('@') == 0: # terminal states\n",
    "                        self.terminal.append((i, j))\n",
    "                        val = int(contents[i][j].lstrip('@'))\n",
    "                        if val < self.min_reward:\n",
    "                            self.min_reward = val\n",
    "                        if val > self.max_reward:\n",
    "                            self.max_reward = val\n",
    "                            \n",
    "                        row.append(val)\n",
    "                        \n",
    "                    elif contents[i][j].lstrip('-+').isdigit():\n",
    "                        val = int(contents[i][j])\n",
    "                        if val < self.min_reward:\n",
    "                            self.min_reward = val\n",
    "                        if val > self.max_reward:\n",
    "                            self.max_reward = val        \n",
    "                        row.append(val)\n",
    "                    elif contents[i][j]== 'n':\n",
    "                        row.append(self.non_terminal_reward)\n",
    "                    else:\n",
    "                        row.append('#')\n",
    "                except IndexError:\n",
    "                    row.append('x')\n",
    "            self.walls.append(row)\n",
    "            \n",
    "    def terminal_test(self, state):\n",
    "        return state in self.terminal\n",
    "\n",
    "    def actions(self,state):\n",
    "        if state in self.terminal:\n",
    "            return []\n",
    "        else:\n",
    "            return (\"up\", \"down\", \"left\", \"right\")\n",
    "\n",
    "    def step(self, state, pi):\n",
    "        r = self.results(state,pi[state[0]][state[1]])\n",
    "        pr = [p for p, (u,v) in r]   \n",
    "        st = [s for p, s in r]\n",
    "        return random.choices(st, pr, k=1)[0]\n",
    "        \n",
    "    def episode(self, state, pi, gamma=1):\n",
    "        path = []\n",
    "        r = self.walls[state[0]][state[1]]\n",
    "        path.append(state)\n",
    "        while(not problem.terminal_test(state)):\n",
    "            gamma *= gamma\n",
    "            state = problem.step(state, pi)\n",
    "            r += gamma*self.walls[state[0]][state[1]]\n",
    "            path.append(state)\n",
    "        return path, r\n",
    "\n",
    "    def results(self, state, action):    \n",
    "        row, col = state\n",
    "        result = []\n",
    "\n",
    "        if action == \"up\":\n",
    "            candidates = [\n",
    "                (0.8, (row - 1, col)),\n",
    "                (0.1, (row, col - 1)),\n",
    "                (0.1, (row, col + 1))\n",
    "            ]\n",
    "            \n",
    "            for prob, (r, c) in candidates:\n",
    "                if 0 <= r < self.height and 0 <= c < self.width and self.walls[r][c] != '#' :\n",
    "                    result.append((prob, (r, c)))\n",
    "                else:\n",
    "                    result.append((prob, (row, col)))\n",
    "\n",
    "        elif action == \"down\":\n",
    "            candidates = [\n",
    "                (0.8, (row + 1, col)),\n",
    "                (0.1, (row, col - 1)),\n",
    "                (0.1, (row, col + 1))\n",
    "            ]\n",
    "            for prob, (r, c) in candidates:\n",
    "                if 0 <= r < self.height and 0 <= c < self.width and self.walls[r][c] != '#' :\n",
    "                    result.append((prob, (r, c)))\n",
    "                else:\n",
    "                    result.append((prob, (row, col)))\n",
    "\n",
    "        elif action == \"left\":\n",
    "            candidates = [\n",
    "                (0.1, (row + 1, col)),\n",
    "                (0.8, (row, col - 1)),\n",
    "                (0.1, (row - 1, col))\n",
    "            ]\n",
    "            for prob, (r, c) in candidates:\n",
    "                if 0 <= r < self.height and 0 <= c < self.width and self.walls[r][c] != '#' :\n",
    "                    result.append((prob, (r, c)))\n",
    "                else:\n",
    "                    result.append((prob, (row, col)))\n",
    "\n",
    "        elif action == \"right\":\n",
    "            candidates = [\n",
    "                (0.1, (row + 1, col)),\n",
    "                (0.8, (row, col + 1)),\n",
    "                (0.1, (row - 1, col))\n",
    "            ]\n",
    "            for prob, (r, c) in candidates:\n",
    "                if 0 <= r < self.height and 0 <= c < self.width and self.walls[r][c] != '#' :\n",
    "                    result.append((prob, (r, c)))\n",
    "                else:\n",
    "                    result.append((prob, (row, col)))\n",
    "                    \n",
    "        return result\n",
    "        \n",
    "\n",
    "    # for visualization    \n",
    "    def output_image(self, policy = None, V = None, path=None):\n",
    "        from PIL import Image, ImageDraw, ImageFont\n",
    "        \n",
    "        img = Image.new(\n",
    "            \"RGBA\",\n",
    "            (self.cell_size*self.width, self.cell_size*self.height),\n",
    "            \"black\"\n",
    "        )\n",
    "         \n",
    "        draw = ImageDraw.Draw(img)\n",
    "        #font = ImageFont.truetype(\"arial.ttf\", 48)\n",
    "        \n",
    "        for i, row in enumerate(self.walls):\n",
    "            for j, col in enumerate(row):\n",
    "\n",
    "                # Walls\n",
    "                if col == '#':\n",
    "                    fill = (0, 0, 0, 255) # full transparency\n",
    "                    \n",
    "                # Empty cell\n",
    "                elif col < 0:\n",
    "                    fill = (237, 240, 255 - int(255*abs(col)/abs(self.min_reward)), 50)\n",
    "                elif col >= 0:\n",
    "                    fill = (255-int(255*col/self.max_reward), 240 , 240, 50)    \n",
    "\n",
    "                if path and (i,j) in path:\n",
    "                    fill = (0, 255, 0, 100)\n",
    "\n",
    "                # Draw cell\n",
    "                if col != '@':\n",
    "                    if (i,j) not in self.terminal:\n",
    "                        draw.rectangle(\n",
    "                            ([(j * self.cell_size + self.cell_border, i * self.cell_size + self.cell_border),\n",
    "                              ((j + 1) * self.cell_size - self.cell_border, (i + 1) * self.cell_size - self.cell_border)]),\n",
    "                            fill=fill\n",
    "                        )\n",
    "                    else:\n",
    "                        draw.rectangle(\n",
    "                            ([(j * self.cell_size + self.cell_border, i * self.cell_size + self.cell_border),\n",
    "                              ((j + 1) * self.cell_size - self.cell_border, (i + 1) * self.cell_size - self.cell_border)]),\n",
    "                            fill=fill, outline=(255,0,0)\n",
    "                        )\n",
    "                        \n",
    "        if V is not None:\n",
    "            for i, row in enumerate(self.walls):\n",
    "                for j, col in enumerate(row):\n",
    "                    if self.walls[i][j] != '#':\n",
    "                        draw.text((j*self.cell_size+10, i*self.cell_size+10), str(round(V[i][j],2)), (50,50,50))\n",
    "        else:\n",
    "            for i, row in enumerate(self.walls):\n",
    "                for j, col in enumerate(row):\n",
    "                    if self.walls[i][j] != '#' and self.walls[i][j] != self.non_terminal_reward:\n",
    "                        draw.text((j*self.cell_size+10, i*self.cell_size+10), str(self.walls[i][j]), (0,0,0))\n",
    "\n",
    "\n",
    "\n",
    "        # Draw arrows based on policy\n",
    "        if policy is not None:\n",
    "            arrow_size = min(self.cell_size // 3, 10)\n",
    "            for i in range(len(policy)):\n",
    "                for j in range(len(policy[0])):\n",
    "                    x_center = j * self.cell_size + self.cell_size // 2\n",
    "                    y_center = i * self.cell_size + self.cell_size // 2\n",
    "                    if policy[i][j] == 'up':\n",
    "                        draw.line((x_center - arrow_size // 2,\n",
    "                                   y_center + arrow_size // 2,\n",
    "                                   x_center,\n",
    "                                   y_center - arrow_size // 2),\n",
    "                                  fill='blue', width=2)\n",
    "                        draw.line((x_center + arrow_size // 2,\n",
    "                                   y_center + arrow_size // 2,\n",
    "                                   x_center,\n",
    "                                   y_center - arrow_size // 2),\n",
    "                                  fill='blue', width=2)\n",
    "                    elif policy[i][j] == 'down':\n",
    "                        draw.line((x_center - arrow_size // 2,\n",
    "                                   y_center - arrow_size // 2,\n",
    "                                   x_center,\n",
    "                                   y_center + arrow_size // 2),\n",
    "                                  fill='blue', width=2)\n",
    "                        draw.line((x_center + arrow_size // 2,\n",
    "                                   y_center - arrow_size // 2,\n",
    "                                   x_center,\n",
    "                                   y_center + arrow_size // 2),\n",
    "                                  fill='blue', width=2)\n",
    "                    elif policy[i][j] == 'right':\n",
    "                        draw.line((x_center - arrow_size // 2,\n",
    "                                    y_center - arrow_size // 2,\n",
    "                                    x_center + arrow_size // 2,\n",
    "                                    y_center),\n",
    "                                    fill='blue', width=2)\n",
    "                        draw.line((x_center - arrow_size // 2,\n",
    "                                    y_center + arrow_size // 2,\n",
    "                                    x_center + arrow_size // 2,\n",
    "                                    y_center),\n",
    "                                    fill='blue', width=2)\n",
    "                    elif policy[i][j] == 'left':\n",
    "                        draw.line((x_center + arrow_size // 2,\n",
    "                                    y_center - arrow_size // 2,\n",
    "                                    x_center - arrow_size // 2,\n",
    "                                    y_center),\n",
    "                                    fill='blue', width=2)\n",
    "                        draw.line((x_center + arrow_size // 2,\n",
    "                                    y_center + arrow_size // 2,\n",
    "                                    x_center - arrow_size // 2,\n",
    "                                    y_center),\n",
    "                                    fill='blue', width=2)\n",
    "                                                                                                \n",
    "        #img = Image.alpha_composite(img_mars.convert(\"RGBA\"), img)\n",
    "        img.save('test.png')\n",
    "        return img\n"
   ]
  },
  {
   "cell_type": "markdown",
   "id": "204f26cd-2977-4c3f-9fd0-9078230e7fec",
   "metadata": {},
   "source": [
    "### Maze format\n",
    "\n",
    "- use # for walls, \n",
    "- use numbers (e.g 20, -20) for rewards for non-terminal states\n",
    "- use x for terminal states i.e x10 means it is a terminal state with rewards 10\n",
    "- use n for non terminal states that have 0 reward. The Grid class accepts a value to set the reward of the non-terminal state to any value"
   ]
  },
  {
   "cell_type": "code",
   "execution_count": 37,
   "id": "a59828fe-2a5a-457f-94dc-76661f33b2a0",
   "metadata": {
    "tags": []
   },
   "outputs": [
    {
     "data": {
      "image/png": "[encoded data removed]",
      "text/plain": [
       "<PIL.Image.Image image mode=RGBA size=200x150>"
      ]
     },
     "execution_count": 37,
     "metadata": {},
     "output_type": "execute_result"
    }
   ],
   "source": [
    "maze1 = \"n,n,n,n,n,n,n,n,n,n,n,n,n,n,n,n,n,n,n,n\\n\\\n",
    "n,n,n,-5,n,n,n,n,n,n,n,n,n,n,n,n,n,n,n,n\\n\\\n",
    "n,n,n,-5,-10,-5,-5,-5,-5,n,n,n,n,n,n,n,n,n,-10,-10\\n\\\n",
    "n,n,n,-5,-5,-10,-10,-5,n,n,n,n,n,n,n,n,n,-10,@-30,-10\\n\\\n",
    "n,n,n,-5,-10,@-30,-10,-10,n,n,n,n,n,n,n,n,-10,-10,-10,-10\\n\\\n",
    "n,n,n,n,n,-10,-10,n,n,n,n,n,n,n,n,n,n,n,n,n\\n\\\n",
    "n,n,n,n,n,n,n,n,n,n,n,n,n,n,n,n,n,n,n,n\\n\\\n",
    "-3,-3,n,n,n,n,n,n,n,n,n,n,n,n,@30,n,n,n,n,n\\n\\\n",
    "n,n,-3,-3,-3,n,n,n,n,n,n,n,n,n,n,n,n,n,n,n\\n\\\n",
    "n,n,n,n,n,-3,-3,n,n,n,n,n,n,n,n,n,n,n,n,n\\n\\\n",
    "n,n,n,n,n,n,n,-3,-3,-3,-3,-3,-3,-3,-3,-3,-3,-3,-3,n\\n\\\n",
    "n,n,n,n,n,n,n,n,n,n,n,n,n,n,n,n,n,n,n,-3\\n\\\n",
    "n,n,n,n,n,n,n,n,n,n,n,n,n,n,n,n,@60,n,n,n\\n\\\n",
    "n,n,n,n,n,n,n,n,n,n,n,n,n,n,n,n,n,n,n,n\\n\\\n",
    "n,n,n,n,n,n,n,n,n,-3,-3,n,n,n,n,n,n,n,n,n\\n\\\n",
    "n,n,n,n,n,n,n,n,-3,-3,n,n,n,n,n,n,n,n,n,n\\n\\\n",
    "-10,-10,-10,-10,n,n,n,n,n,n,n,n,n,n,n,n,n,n,n,n\\n\\\n",
    "-10,-10,-10,-10,n,n,n,n,n,n,n,n,n,n,n,n,n,n,n,n\\n\\\n",
    "-10,-10,-10,-10,n,n,n,n,n,n,n,n,n,n,n,n,n,n,n,n\"\n",
    "\n",
    "# this maze is from lecture slide. you can test you algorithm on this maze to see if you get the same value\n",
    "maze2 = \"n,n,@5\\n\\\n",
    "n,n,@-5\"\n",
    "\n",
    "# this maze is from lecture slide. you can test you algorithm on this maze to see if you get the same value\n",
    "maze3 = \"n,n,n,@1\\n\\\n",
    "n,#,n,@-1\\n\\\n",
    "n,n,n,n\"\n",
    "\n",
    "maze4 = \"n,n,@-20,@20\\n\\\n",
    "n,n,@-20,n\\n\\\n",
    "@2,n,n,n\"\n",
    "\n",
    "maze5 = \"n,n,n,n\\n\\\n",
    "n,#,n,@-1\\n\\\n",
    "n,n,n,@+1\"\n",
    "\n",
    "problem = Grid(maze3, non_terminal_reward=-0.04)\n",
    "problem.output_image()"
   ]
  },
  {
   "cell_type": "code",
   "execution_count": 38,
   "id": "7a07fc96-e33a-46b2-9666-9e2887f4570a",
   "metadata": {},
   "outputs": [
    {
     "data": {
      "image/png": "[encoded data removed]",
      "text/plain": [
       "<PIL.Image.Image image mode=RGBA size=200x150>"
      ]
     },
     "execution_count": 38,
     "metadata": {},
     "output_type": "execute_result"
    }
   ],
   "source": [
    "pi1 = [['right', 'right', 'right', None],\n",
    "       ['up', None, 'up', None],\n",
    "       ['up', 'left', 'left', 'left']]\n",
    "pi2 = [['up', 'right', 'right', None],\n",
    "       ['left', None, 'right', None],\n",
    "       ['up', 'right', 'up', 'left']]\n",
    "#pi3 = [['down', 'right', 'down', 'left'],\n",
    "#       ['down', None, 'down', None],\n",
    "#       ['right', 'right', 'right', None]]\n",
    "problem.output_image(pi2)"
   ]
  },
  {
   "cell_type": "code",
   "execution_count": 39,
   "id": "bdfb08c0-71fb-47a7-9bad-3adb2c30cc7c",
   "metadata": {},
   "outputs": [
    {
     "data": {
      "text/plain": [
       "0.3894531999997609"
      ]
     },
     "execution_count": 39,
     "metadata": {},
     "output_type": "execute_result"
    }
   ],
   "source": [
    "rsum = 0\n",
    "for i in range(100000):\n",
    "    path, r = problem.episode((2,3), pi1, gamma=1)\n",
    "    rsum += r\n",
    "rsum/100000"
   ]
  },
  {
   "cell_type": "markdown",
   "id": "bdacbcf3-292f-4b78-b252-57e00ec0b2c7",
   "metadata": {},
   "source": [
    "In the figure above, the terminal states are drawn with red outline. The rewards are written in the grid cell. The reward of all the non terminal states can be set by passing the argument as:\n",
    "```problem = Grid(maze1, non_terminal_reward=-2)```"
   ]
  },
  {
   "cell_type": "code",
   "execution_count": 40,
   "id": "410e8cf0-c653-42d8-bd52-5e782e984dbf",
   "metadata": {},
   "outputs": [
    {
     "name": "stdout",
     "output_type": "stream",
     "text": [
      "[(2, 3), (2, 2), (2, 1), (2, 0), (1, 0), (0, 0), (0, 1), (0, 1), (0, 2), (0, 3)] 0.64\n",
      "0.3920239999999778\n"
     ]
    },
    {
     "data": {
      "image/png": "[encoded data removed]",
      "text/plain": [
       "<PIL.Image.Image image mode=RGBA size=200x150>"
      ]
     },
     "execution_count": 40,
     "metadata": {},
     "output_type": "execute_result"
    }
   ],
   "source": [
    "# \n",
    "p = problem.results((0,0), 'right') \n",
    "#print(p)\n",
    "#\n",
    "\n",
    "pi1 = [['right', 'right', 'right', None],\n",
    "       ['up', None, 'up', None],\n",
    "       ['up', 'left', 'left', 'left']]\n",
    "pi2 = [['right', 'right', 'right', None],\n",
    "       ['up', None, 'down', None],\n",
    "       ['up', 'left', 'up', 'right']]\n",
    "path, r = problem.episode((2,3), pi1, gamma=1)\n",
    "print(path, r)\n",
    "rsum = 0\n",
    "for i in range(10000):\n",
    "    path, r = problem.episode((2,3), pi1, gamma=1)\n",
    "    rsum += r\n",
    "print(rsum/10000)\n",
    "problem.output_image(policy=pi1)"
   ]
  },
  {
   "cell_type": "code",
   "execution_count": 41,
   "id": "67ff8182-f4e9-47ea-851c-41b4b9948922",
   "metadata": {},
   "outputs": [
    {
     "data": {
      "text/plain": [
       "[(0.1, (2, 3)), (0.8, (1, 3)), (0.1, (0, 3))]"
      ]
     },
     "execution_count": 41,
     "metadata": {},
     "output_type": "execute_result"
    }
   ],
   "source": [
    "problem.results((1,3), 'right')"
   ]
  },
  {
   "cell_type": "code",
   "execution_count": 42,
   "id": "ac18b4f4-2302-4a47-ad09-59488f4a17b7",
   "metadata": {},
   "outputs": [
    {
     "data": {
      "image/png": "[encoded data removed]",
      "text/plain": [
       "<PIL.Image.Image image mode=RGBA size=200x150>"
      ]
     },
     "execution_count": 42,
     "metadata": {},
     "output_type": "execute_result"
    }
   ],
   "source": [
    "problem.output_image(policy=pi2)"
   ]
  },
  {
   "cell_type": "markdown",
   "id": "e910be20-40aa-4f0b-b659-9aeec3982ce9",
   "metadata": {},
   "source": [
    "# Policy Evaluation Algorithm"
   ]
  },
  {
   "cell_type": "code",
   "execution_count": 43,
   "id": "6511f4ef-56cf-41a0-813e-3fd1966bfa78",
   "metadata": {},
   "outputs": [],
   "source": [
    "def policy_iteration(problem, pi, gamma = 0.9, niter = 100, epsilon = .01):\n",
    "    # initialize to zero\n",
    "    V = [[0]*problem.width for i in range(problem.height)]\n",
    "    \n",
    "    for t in range(niter):\n",
    "        delta = 0\n",
    "        # for each state\n",
    "        U = [[i for i in row] for row in V] \n",
    "        \n",
    "        for i in range(len(problem.walls)):\n",
    "            for j in range(len(problem.walls[0])):\n",
    "                if t == 0 and (i,j) in problem.terminal:\n",
    "                    V[i][j] = problem.walls[i][j]\n",
    "                    \n",
    "    \n",
    "                elif (i,j) not in problem.terminal and problem.walls[i][j] != '#':\n",
    "                    V[i][j] = problem.walls[i][j] + gamma * sum( prob*U[u][v] for (prob, (u,v)) in problem.results((i,j), pi[i][j])) \n",
    "                                                 \n",
    "                \n",
    "        delta = max(delta, sum([abs(row[0][i]-row[1][i]) for row in zip(U,V) for i in range(len(row[0])) ]))\n",
    "        if delta <= epsilon * (1 - gamma) / gamma:\n",
    "            print(f\"Converged after {t} iterations\")\n",
    "            return V\n",
    "            \n",
    "    print(f\"Not converged after {t} iterations\")\n",
    "    return V"
   ]
  },
  {
   "cell_type": "markdown",
   "id": "ef85bf05-afa5-4f8a-b303-49618715077b",
   "metadata": {},
   "source": [
    "## Evaluating some policies from lecture notes"
   ]
  },
  {
   "cell_type": "code",
   "execution_count": 44,
   "id": "5a1d0d49-dc22-4bf7-bff3-0f1080a79da8",
   "metadata": {},
   "outputs": [
    {
     "name": "stdout",
     "output_type": "stream",
     "text": [
      "Converged after 91 iterations\n"
     ]
    },
    {
     "data": {
      "image/png": "[encoded data removed]",
      "text/plain": [
       "<PIL.Image.Image image mode=RGBA size=150x100>"
      ]
     },
     "execution_count": 44,
     "metadata": {},
     "output_type": "execute_result"
    }
   ],
   "source": [
    "\n",
    "pi1 = [['right', 'right', None],\n",
    "       ['up', 'left', None]]\n",
    "\n",
    "problem = Grid(maze2, non_terminal_reward=-0.04)\n",
    "V = policy_iteration(problem, pi1, gamma = 1, niter = 1000, epsilon = .00001)\n",
    "problem.output_image(pi1, V)"
   ]
  },
  {
   "cell_type": "code",
   "execution_count": 45,
   "id": "88dbe4d7-adef-438a-b75d-c30ab325e351",
   "metadata": {},
   "outputs": [
    {
     "name": "stdout",
     "output_type": "stream",
     "text": [
      "Converged after 17 iterations\n"
     ]
    },
    {
     "data": {
      "image/png": "[encoded data removed]",
      "text/plain": [
       "<PIL.Image.Image image mode=RGBA size=200x150>"
      ]
     },
     "execution_count": 45,
     "metadata": {},
     "output_type": "execute_result"
    }
   ],
   "source": [
    "problem = Grid(maze3, non_terminal_reward=-.08)\n",
    "pi2 = [['right', 'right', 'right', None],\n",
    "      ['up', None, 'up', None],\n",
    "      ['up', 'left', 'left', 'left']]\n",
    "V = policy_iteration(problem, pi2, gamma = 0.9, niter = 100, epsilon = .01)\n",
    "problem.output_image(pi2,V)"
   ]
  },
  {
   "cell_type": "code",
   "execution_count": 46,
   "id": "7499b8b3-0037-4ebf-b373-7cdd82629eaf",
   "metadata": {},
   "outputs": [
    {
     "name": "stdout",
     "output_type": "stream",
     "text": [
      "Not converged after 499 iterations\n"
     ]
    },
    {
     "data": {
      "image/png": "[encoded data removed]",
      "text/plain": [
       "<PIL.Image.Image image mode=RGBA size=150x100>"
      ]
     },
     "execution_count": 46,
     "metadata": {},
     "output_type": "execute_result"
    }
   ],
   "source": [
    "problem = Grid(maze2, non_terminal_reward=0)\n",
    "pi1 = [['up', 'up', None],\n",
    "       ['up', 'up', None]]\n",
    "V = policy_iteration(problem, pi1, gamma = 1, niter = 500, epsilon = .001)\n",
    "problem.output_image(pi1, V)"
   ]
  },
  {
   "cell_type": "code",
   "execution_count": 47,
   "id": "f8071a7b-757b-4135-9d27-aaf4de5ced02",
   "metadata": {},
   "outputs": [
    {
     "name": "stdout",
     "output_type": "stream",
     "text": [
      "Converged after 94 iterations\n"
     ]
    },
    {
     "data": {
      "image/png": "[encoded data removed]",
      "text/plain": [
       "<PIL.Image.Image image mode=RGBA size=150x100>"
      ]
     },
     "execution_count": 47,
     "metadata": {},
     "output_type": "execute_result"
    }
   ],
   "source": [
    "problem = Grid(maze2, non_terminal_reward=-1)\n",
    "pi1 = [['right', 'right', None],\n",
    "       ['up', 'left', None]]\n",
    "V = policy_iteration(problem, pi1, gamma = 1, niter = 100, epsilon = .01)\n",
    "problem.output_image(pi1, V)"
   ]
  },
  {
   "cell_type": "code",
   "execution_count": null,
   "id": "c6b687e6-6b77-45b6-a956-0d6ac867268d",
   "metadata": {},
   "outputs": [],
   "source": []
  },
  {
   "cell_type": "markdown",
   "id": "6ac9257a-591c-4857-b83f-2358f4561683",
   "metadata": {},
   "source": [
    "# Value Iteration Algorithm to find the best policy:\n",
    "\n",
    "Implement the value iteration algorithm\n",
    "\n",
    "```\n",
    "def value_iteration(problem, gamma = 0.9, niter = 100):\n",
    "# The function should return the value V of the best policy. V would be two dimensional list equal to the size of problem.walls\n",
    "```\n",
    "\n",
    "Also Implement the function\n",
    "\n",
    "```\n",
    "def best_policy(problem, V):\n",
    "#This function will take the value of the policy and return the best policy pi. pi will be a two dimensional list containing the optimal action from each state\n",
    "```"
   ]
  },
  {
   "cell_type": "code",
   "execution_count": 48,
   "id": "13b80b3a-6f04-431c-9b27-2a8e6cde8f11",
   "metadata": {},
   "outputs": [],
   "source": [
    "def value_iteration(problem, gamma = 0.9, niter = 100, epsilon = .01):\n",
    "    # initialize to zero\n",
    "    V = [[0]*problem.width for i in range(problem.height)]\n",
    "    \n",
    "    for t in range(niter):\n",
    "        delta = 0\n",
    "        # for each state\n",
    "        U = [[i for i in row] for row in V] \n",
    "        \n",
    "        for i in range(len(problem.walls)):\n",
    "            for j in range(len(problem.walls[0])):\n",
    "                if t == 0 and (i,j) in problem.terminal:\n",
    "                    V[i][j] = problem.walls[i][j]\n",
    "                    \n",
    "    \n",
    "                elif (i,j) not in problem.terminal and problem.walls[i][j] != '#':\n",
    "                    V[i][j] = problem.walls[i][j] + gamma * max(sum( prob*U[u][v] for (prob, (u,v)) in problem.results((i,j), a)) \n",
    "                                                 for a in problem.actions((i,j)))\n",
    "                \n",
    "        delta = max(delta, sum([abs(row[0][i]-row[1][i]) for row in zip(U,V) for i in range(len(row[0])) ]))\n",
    "        if delta <= epsilon * (1 - gamma) / gamma:\n",
    "            print(f\"Converged after {t} iterations\")\n",
    "            return V\n",
    "            \n",
    "    print(f\"Not converged after {t} iterations\")\n",
    "    return V"
   ]
  },
  {
   "cell_type": "code",
   "execution_count": 49,
   "id": "d16d0335-35ea-4d4d-b417-e1473078ed6c",
   "metadata": {},
   "outputs": [],
   "source": [
    "from operator import itemgetter\n",
    "\n",
    "def best_policy(problem, V):\n",
    "    \"\"\"Given an Problem and a Value function V, determine the best policy\"\"\"\n",
    "    pi = [[None]*problem.width for i in range(problem.height)]\n",
    "\n",
    "    for i in range(len(problem.walls)):\n",
    "        for j in range(len(problem.walls[0])):\n",
    "            if (i,j) not in problem.terminal and problem.walls[i][j] != '#':\n",
    "                val = [sum( prob*V[u][v] for (prob, (u,v)) in problem.results((i,j), a)) \n",
    "                                           for a in problem.actions((i,j))]\n",
    "                index,_ = max(enumerate(val), key=itemgetter(1))\n",
    "                pi[i][j] = problem.actions((i,j))[index]\n",
    "\n",
    "    return pi"
   ]
  },
  {
   "cell_type": "code",
   "execution_count": 50,
   "id": "c93625ea-8dc5-40e5-af6d-aba9c3e7a916",
   "metadata": {},
   "outputs": [
    {
     "name": "stdout",
     "output_type": "stream",
     "text": [
      "Not converged after 499 iterations\n"
     ]
    },
    {
     "data": {
      "image/png": "[encoded data removed]",
      "text/plain": [
       "<PIL.Image.Image image mode=RGBA size=150x100>"
      ]
     },
     "execution_count": 50,
     "metadata": {},
     "output_type": "execute_result"
    }
   ],
   "source": [
    "# After implementing the algorithm use the following to display the policy\n",
    "problem = Grid(maze2, non_terminal_reward=.1)\n",
    "V = value_iteration(problem, gamma=1, niter=500)\n",
    "pi = best_policy(problem, V)\n",
    "problem.output_image(pi, V)\n"
   ]
  },
  {
   "cell_type": "code",
   "execution_count": 51,
   "id": "1c12eef7-b4d6-4644-a524-c8bc2be3e1a2",
   "metadata": {},
   "outputs": [
    {
     "name": "stdout",
     "output_type": "stream",
     "text": [
      "Not converged after 99 iterations\n"
     ]
    },
    {
     "data": {
      "image/png": "[encoded data removed]",
      "text/plain": [
       "<PIL.Image.Image image mode=RGBA size=200x150>"
      ]
     },
     "execution_count": 51,
     "metadata": {},
     "output_type": "execute_result"
    }
   ],
   "source": [
    "problem = Grid(maze5, non_terminal_reward=.1)\n",
    "V = value_iteration(problem, gamma = 1, niter=100)\n",
    "pi = best_policy(problem, V)\n",
    "problem.output_image(pi, V)"
   ]
  },
  {
   "cell_type": "code",
   "execution_count": null,
   "id": "c60fc220-dea6-41f4-b902-e7d30c20fac4",
   "metadata": {},
   "outputs": [],
   "source": []
  },
  {
   "cell_type": "code",
   "execution_count": null,
   "id": "af133fb6-f4f2-43b7-815c-6a966be0f157",
   "metadata": {},
   "outputs": [],
   "source": []
  }
 ],
 "metadata": {
  "kernelspec": {
   "display_name": "Python 3 (ipykernel)",
   "language": "python",
   "name": "python3"
  },
  "language_info": {
   "codemirror_mode": {
    "name": "ipython",
    "version": 3
   },
   "file_extension": ".py",
   "mimetype": "text/x-python",
   "name": "python",
   "nbconvert_exporter": "python",
   "pygments_lexer": "ipython3",
   "version": "3.10.10"
  }
 },
 "nbformat": 4,
 "nbformat_minor": 5
}
