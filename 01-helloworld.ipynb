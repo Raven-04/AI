{
 "cells": [
  {
   "cell_type": "markdown",
   "id": "5ba9771e-1b51-44cc-9ffe-50bda3d271c0",
   "metadata": {},
   "source": [
    "# Python Basic Tutorial\n",
    "Follow the [tutorial](https://www.w3schools.com/python/default.asp)"
   ]
  },
  {
   "cell_type": "code",
   "execution_count": 39,
   "id": "a0b0deec-7f43-4325-93e5-c52819663a71",
   "metadata": {
    "tags": []
   },
   "outputs": [
    {
     "name": "stdout",
     "output_type": "stream",
     "text": [
      "hello world\n"
     ]
    }
   ],
   "source": [
    "msg = \"hello world\"\n",
    "print(msg)"
   ]
  },
  {
   "cell_type": "markdown",
   "id": "f726384d-21ec-4732-af4e-65f4ffb20892",
   "metadata": {},
   "source": [
    "## Variables\n",
    "Variables do not need to be declared with any particular type, and can even change type after they have been set.\n",
    "\n",
    "Variables created outside a function are global variables and are accessible inside all functions.\n",
    "\n",
    "Every variable in python is an object. To check the size of the object use ```sys.getsizeof(<obj>)```\n",
    "\n",
    "Date types:\n",
    "- Python data types:\n",
    "- Numeric Types: int, float, complex\n",
    "- Boolean Type: bool\n",
    "- Binary Types: bytes, bytearray\n",
    "- Text Type: str\n",
    "- Sequence Types: list, tuple\n",
    "- Set type: set\n",
    "- Mapping Type: dict\n",
    "- None Type: None (represents absense of value)"
   ]
  },
  {
   "cell_type": "code",
   "execution_count": 40,
   "id": "9ee411e1-61d2-485c-9d21-13f51d3e779f",
   "metadata": {
    "tags": []
   },
   "outputs": [
    {
     "name": "stdout",
     "output_type": "stream",
     "text": [
      "3 3 3.0\n",
      "<class 'int'>\n"
     ]
    }
   ],
   "source": [
    "# Numeric data type\n",
    "x = 5\n",
    "txt = \"sunday\"\n",
    "x = 2.4\n",
    "# casting\n",
    "x = str(3)\n",
    "y = int(3)\n",
    "z = float(3)\n",
    "print(x, y, z)\n",
    "print(type(y))"
   ]
  },
  {
   "cell_type": "code",
   "execution_count": 41,
   "id": "4d5c7b31-c406-4ed0-9ce2-77d1f7e00870",
   "metadata": {
    "tags": []
   },
   "outputs": [
    {
     "name": "stdout",
     "output_type": "stream",
     "text": [
      "Hel\n",
      "Hel\n",
      "llo, world\n",
      "wor\n",
      "I want 3 pieces of item 567 for 49.95 dollars.\n",
      "I want 3 pieces of item 567 for 49.95 dollars.\n"
     ]
    }
   ],
   "source": [
    "# String data type\n",
    "txt = 'Hello, world'\n",
    "print(txt[0:3])\n",
    "print(txt[:3])\n",
    "print(txt[2:])\n",
    "print(txt[-5:-2])\n",
    "#txt.upper(), txt.split(' ')\n",
    "txt += ' today is Tuesday'\n",
    "quantity = 3\n",
    "itemno = 567\n",
    "price = 49.95\n",
    "myorder = \"I want {} pieces of item {} for {} dollars.\"\n",
    "\n",
    "print(myorder.format(quantity, itemno, price))\n",
    "print(f\"I want {quantity} pieces of item {itemno} for {price} dollars.\")"
   ]
  },
  {
   "cell_type": "code",
   "execution_count": 13,
   "id": "d436adff-ca52-427f-8d93-1dfa42818197",
   "metadata": {
    "tags": []
   },
   "outputs": [
    {
     "name": "stdout",
     "output_type": "stream",
     "text": [
      "[3, 3.5]\n",
      "[3, 3.5]\n",
      "[3, 'city']\n",
      "[1, 2, 3, 5, 6]\n",
      "1\n",
      "2\n",
      "3\n",
      "5\n",
      "6\n",
      "2\n"
     ]
    }
   ],
   "source": [
    "# list data type (mutable)\n",
    "# order collection of things that can be repleated\n",
    "lst = ['city', 3, 3.5]\n",
    "print(lst[1:])\n",
    "print(lst[-2:])\n",
    "print(lst[-2::-1]) # last -1 will reverse the elements\n",
    "\n",
    "lst = [1,2,3,4,5]\n",
    "lst.append(6)\n",
    "lst.pop(3) # if you donot specify, it will remove the last element\n",
    "print(lst)\n",
    "#some other functions: lst.insert(),lst.remove(),del lst[2], lst.clear, len(lst)\n",
    "for l in lst:\n",
    "    print(l)\n",
    "\n",
    "mlst = [[1,2,3], [4,5,6]]\n",
    "print(mlst[0:][0][1])\n",
    "\n",
    "# sorting of list\n",
    "mlst.sort()"
   ]
  },
  {
   "cell_type": "code",
   "execution_count": 11,
   "id": "cc9ff753-dc0e-4fd8-9996-9570d2193b5d",
   "metadata": {
    "tags": []
   },
   "outputs": [],
   "source": [
    "# tuples (immutable)\n",
    "pair = (3,5)\n",
    "pair[0]\n",
    "\n",
    "x,y = pair\n",
    "#pair[1] = 6 #TypeError: object does not support item assignment "
   ]
  },
  {
   "cell_type": "code",
   "execution_count": 15,
   "id": "651604f8-235e-4636-aabf-23710fff1f89",
   "metadata": {
    "tags": []
   },
   "outputs": [
    {
     "name": "stdout",
     "output_type": "stream",
     "text": [
      "{1, 2, 3}\n"
     ]
    }
   ],
   "source": [
    "# set is Set type. It is stored as unordered list\n",
    "s1 = {1,2,3,3}\n",
    "s2 = set()\n",
    "s2.add(5)\n",
    "s2.add(1)\n",
    "s2.remove(5)\n",
    "print(s1)"
   ]
  },
  {
   "cell_type": "code",
   "execution_count": 17,
   "id": "6c127d0a-e5da-4efd-a5ca-a35143e94b90",
   "metadata": {
    "tags": []
   },
   "outputs": [
    {
     "name": "stdout",
     "output_type": "stream",
     "text": [
      "{'brand': 'Ford', 'model': 'Mustang', 'year': 1964}\n",
      "Ford\n",
      "Mustang\n",
      "1964\n"
     ]
    }
   ],
   "source": [
    "# Dictionary\n",
    "# Stores elements as (key, value) pair\n",
    "thisdict = {\n",
    "  \"brand\": \"Ford\",\n",
    "  \"model\": \"Mustang\",\n",
    "  \"year\": 1964\n",
    "}\n",
    "print(thisdict)\n",
    "\n",
    "for x in thisdict.values():\n",
    "  print(x)"
   ]
  },
  {
   "cell_type": "markdown",
   "id": "f0aa8464-d2ab-41d7-b4c6-3547b73ee1b3",
   "metadata": {
    "jp-MarkdownHeadingCollapsed": true
   },
   "source": [
    "## Operators\n",
    "Operators in Python are special symbols or keywords that perform operations on operands. Operands can be variables, values, or expressions. Python supports a variety of operators for different types of operations. Here are some common types of operators in Python:\n",
    "\n",
    "Arithmetic Operators:\n",
    "- \\+ (addition)\n",
    "- \\- (subtraction)\n",
    "- \\* (multiplication)\n",
    "- / (division)\n",
    "- % (modulo, returns the remainder)\n",
    "- ** (exponentiation)\n",
    "\n",
    "Comparison Operators:\n",
    "- == (equal to)\n",
    "- != (not equal to)\n",
    "- < (less than)\n",
    "- \\> (greater than)\n",
    "- <= (less than or equal to)\n",
    "- \\>= (greater than or equal to)\n",
    "\n",
    "Logical Operators:\n",
    "- and (logical AND)\n",
    "- or (logical OR)\n",
    "- not (logical NOT)\n",
    "- Assignment Operators:\n",
    "- = (assignment)\n",
    "\n",
    "Bitwise Operators:\n",
    "- & (bitwise AND)\n",
    "- | (bitwise OR)\n",
    "- ^ (bitwise XOR)\n",
    "- ~ (bitwise NOT)\n",
    "- << (left shift)\n",
    "- \\>> (right shift)\n",
    "\n",
    "Membership Operators:\n",
    "- in (True if a value is found in the sequence)\n",
    "- not in (True if a value is not found in the sequence)\n",
    "\n",
    "Identity Operators:\n",
    "- is (True if two variables reference the same object)\n",
    "- is not (True if two variables reference different objects)\n",
    "\n",
    "Ternary Operator:\n",
    "- x if condition else y (returns x if the condition is true, otherwise y)"
   ]
  },
  {
   "cell_type": "markdown",
   "id": "f392c0e4-3a94-44a9-a6c0-ee8e94ea18b9",
   "metadata": {},
   "source": [
    "## Loops"
   ]
  },
  {
   "cell_type": "code",
   "execution_count": 18,
   "id": "18c491f3-0719-4a7c-ab64-43c04b35a429",
   "metadata": {
    "tags": []
   },
   "outputs": [
    {
     "name": "stdout",
     "output_type": "stream",
     "text": [
      "apple\n",
      "banana\n",
      "1\n",
      "2\n",
      "3\n",
      "4\n",
      "5\n"
     ]
    }
   ],
   "source": [
    "# for loop\n",
    "fruits = [\"apple\", \"banana\", \"cherry\"]\n",
    "for x in fruits:\n",
    "  print(x)\n",
    "  if x == \"banana\":\n",
    "    break\n",
    "    \n",
    "# while loop\n",
    "i = 1\n",
    "while i < 6:\n",
    "  print(i)\n",
    "  i += 1\n",
    "    \n",
    "# list comprehesion\n",
    "fruits = [\"apple\", \"banana\", \"cherry\", \"kiwi\", \"mango\"]\n",
    "newlist = [x for x in fruits if \"a\" in x]    "
   ]
  },
  {
   "cell_type": "markdown",
   "id": "8871a9de-c920-4b59-af57-62d7edc830f5",
   "metadata": {},
   "source": [
    "## Classes"
   ]
  },
  {
   "cell_type": "code",
   "execution_count": 5,
   "id": "4f8d44cd-4104-4c65-a72e-2ddc56123d05",
   "metadata": {},
   "outputs": [
    {
     "name": "stdout",
     "output_type": "stream",
     "text": [
      "Name: Ahmad\n",
      "Email: ahmad@aus.edu \n",
      "CGPA: 3.5\n"
     ]
    }
   ],
   "source": [
    "class Student:\n",
    "    def __init__(self, name, email, cgpa):\n",
    "        self.name = name\n",
    "        self.email = email\n",
    "        self.cgpa = cgpa\n",
    "\n",
    "    def info(self):\n",
    "        print(f\"Name: {self.name}\\nEmail: {self.email} \\nCGPA: {self.cgpa}\")\n",
    "\n",
    "student1 = Student('Ahmad', 'ahmad@aus.edu', 3.5)\n",
    "student1.info()"
   ]
  },
  {
   "cell_type": "code",
   "execution_count": null,
   "id": "0ba2680e-fff1-4e18-90d6-b281258fb205",
   "metadata": {},
   "outputs": [],
   "source": []
  }
 ],
 "metadata": {
  "kernelspec": {
   "display_name": "Python 3 (ipykernel)",
   "language": "python",
   "name": "python3"
  },
  "language_info": {
   "codemirror_mode": {
    "name": "ipython",
    "version": 3
   },
   "file_extension": ".py",
   "mimetype": "text/x-python",
   "name": "python",
   "nbconvert_exporter": "python",
   "pygments_lexer": "ipython3",
   "version": "3.10.10"
  }
 },
 "nbformat": 4,
 "nbformat_minor": 5
}
